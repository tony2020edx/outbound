{
 "cells": [
  {
   "cell_type": "code",
   "execution_count": 1,
   "metadata": {},
   "outputs": [],
   "source": [
    "import os\n",
    "import shutil\n",
    "import datetime\n",
    "\n",
    "def rename_file(directory):\n",
    "    # List files in the directory\n",
    "    files = os.listdir(directory)\n",
    "    \n",
    "    for file in files:\n",
    "        # Skip files that should not be renamed\n",
    "        if file in [\"master_data.csv\", \"final.csv\", \"input_data.csv\",\"processed_input_data.csv\"]:\n",
    "            continue\n",
    "        \n",
    "        old_path = os.path.join(directory, file)\n",
    "        new_path = os.path.join(directory, \"input_data.csv\")\n",
    "        \n",
    "        # Rename the first found file\n",
    "        os.rename(old_path, new_path)\n",
    "        print(f'Renamed \"{file}\" to \"input_data.csv\"')\n",
    "        break  # Rename only one file\n",
    "\n",
    "def clean_directory(directory):\n",
    "    # Remove any other files that are not allowed\n",
    "    for file in os.listdir(directory):\n",
    "        if file not in [\"master_data.csv\", \"final.csv\", \"input_data.csv\", \"processed_input_data.csv\"]:\n",
    "            os.remove(os.path.join(directory, file))\n",
    "            print(f'Removed \"{file}\"')\n",
    "\n",
    "# Define the data folder path\n",
    "data_folder = \"/Users/tony/Desktop/outbound/data\"  # Change this to the correct path if needed\n",
    "\n",
    "# Run the functions\n",
    "rename_file(data_folder)\n",
    "clean_directory(data_folder)\n",
    "\n"
   ]
  },
  {
   "cell_type": "code",
   "execution_count": 2,
   "metadata": {},
   "outputs": [
    {
     "name": "stdout",
     "output_type": "stream",
     "text": [
      "Merged and deduplicated file saved as /Users/tony/Desktop/outbound/data/final.csv\n"
     ]
    }
   ],
   "source": [
    "#merge master_data.csv and processed_input_data.csv, #then deduplicate the final.csv files based on the lead_id\n",
    "# and save the result as final.csv, \n",
    "\n",
    "import pandas as pd\n",
    "\n",
    "# Define file paths\n",
    "master_file = '/Users/tony/Desktop/outbound/data/master_data.csv'\n",
    "processed_file = '/Users/tony/Desktop/outbound/data/processed_input_data.csv'\n",
    "output_file = '/Users/tony/Desktop/outbound/data/final.csv'\n",
    "\n",
    "# Load both CSV files\n",
    "master_df = pd.read_csv(master_file)\n",
    "processed_df = pd.read_csv(processed_file)\n",
    "\n",
    "def merge_and_deduplicate(master_df, processed_df, output_file):\n",
    "    # Merge the dataframes\n",
    "    merged_df = pd.concat([master_df, processed_df], ignore_index=True)\n",
    "    \n",
    "    # Remove duplicates based on lead_id, keeping the last occurrence\n",
    "    deduplicated_df = merged_df.drop_duplicates(subset='lead_id', keep='last')\n",
    "    \n",
    "    # Save the final deduplicated dataframe to CSV\n",
    "    deduplicated_df.to_csv(output_file, index=False)\n",
    "    \n",
    "    print(f\"Merged and deduplicated file saved as {output_file}\")\n",
    "\n",
    "# Execute function\n",
    "merge_and_deduplicate(master_df, processed_df, output_file)\n",
    "\n"
   ]
  },
  {
   "cell_type": "code",
   "execution_count": 3,
   "metadata": {},
   "outputs": [
    {
     "name": "stdout",
     "output_type": "stream",
     "text": [
      "Moved: /Users/tony/Desktop/outbound/data/master_data.csv -> /Users/tony/Desktop/outbound/data_backup/master_data_20250203142658.csv\n",
      "Moved: /Users/tony/Desktop/outbound/data/processed_input_data.csv -> /Users/tony/Desktop/outbound/data_backup/processed_input_data_20250203142658.csv\n"
     ]
    }
   ],
   "source": [
    "#move the master_data.csv and processed_input_data.csv files to a new folder called \"/Users/tony/Desktop/outbound/data_backup\"\n",
    "#before moving rename them by adding a timestamp to the filename\n",
    "#copy final.csv to a folder named /Users/tony/Desktop/outbound/final_data\n",
    "#rename final.csv to master_data.csv\n",
    "\n",
    "\n",
    "\n",
    "def backup_files(source_folder, backup_folder):\n",
    "    # Ensure the backup folder exists\n",
    "    os.makedirs(backup_folder, exist_ok=True)\n",
    "    \n",
    "    # Get the current timestamp\n",
    "    timestamp = datetime.datetime.now().strftime(\"%Y%m%d%H%M%S\")\n",
    "    \n",
    "    # List of files to move\n",
    "    files_to_move = [\"master_data.csv\", \"processed_input_data.csv\"]\n",
    "    \n",
    "    for file_name in files_to_move:\n",
    "        source_path = os.path.join(source_folder, file_name)\n",
    "        \n",
    "        if os.path.exists(source_path):\n",
    "            # Create new filename with timestamp\n",
    "            new_file_name = f\"{file_name.split('.')[0]}_{timestamp}.csv\"\n",
    "            destination_path = os.path.join(backup_folder, new_file_name)\n",
    "            \n",
    "            # Move the file\n",
    "            shutil.move(source_path, destination_path)\n",
    "            print(f\"Moved: {source_path} -> {destination_path}\")\n",
    "        else:\n",
    "            print(f\"File not found: {source_path}\")\n",
    "\n",
    "# Define source and destination folders\n",
    "source_folder = \"/Users/tony/Desktop/outbound/data\"\n",
    "backup_folder = \"/Users/tony/Desktop/outbound/data_backup\"\n",
    "\n",
    "# Run the backup function\n",
    "backup_files(source_folder, backup_folder)\n",
    "\n",
    "\n",
    "\n"
   ]
  },
  {
   "cell_type": "code",
   "execution_count": 4,
   "metadata": {},
   "outputs": [
    {
     "name": "stdout",
     "output_type": "stream",
     "text": [
      "File successfully copied to: /Users/tony/Desktop/outbound/final_data/final.csv\n"
     ]
    }
   ],
   "source": [
    "#move final to final_data\n",
    "\n",
    "\n",
    "# Define source and destination paths\n",
    "source_file = \"/Users/tony/Desktop/outbound/data/final.csv\"\n",
    "destination_folder = \"/Users/tony/Desktop/outbound/final_data\"\n",
    "\n",
    "# Ensure the destination folder exists\n",
    "os.makedirs(destination_folder, exist_ok=True)\n",
    "\n",
    "# Define the full destination file path\n",
    "destination_path = os.path.join(destination_folder, os.path.basename(source_file))\n",
    "\n",
    "# Copy and replace the file if it already exists\n",
    "shutil.copy2(source_file, destination_path)\n",
    "\n",
    "print(f\"File successfully copied to: {destination_path}\")\n",
    "\n"
   ]
  },
  {
   "cell_type": "code",
   "execution_count": 5,
   "metadata": {},
   "outputs": [
    {
     "name": "stdout",
     "output_type": "stream",
     "text": [
      "File successfully renamed to: /Users/tony/Desktop/outbound/data/master_data.csv\n"
     ]
    }
   ],
   "source": [
    "#rename final.csv to master_data.csv\n",
    "\n",
    "# Define the file paths\n",
    "old_path = \"/Users/tony/Desktop/outbound/data/final.csv\"\n",
    "new_path = \"/Users/tony/Desktop/outbound/data/master_data.csv\"\n",
    "\n",
    "try:\n",
    "    # If master_data.csv exists, remove it\n",
    "    if os.path.exists(new_path):\n",
    "        os.remove(new_path)\n",
    "        print(\"Existing master_data.csv removed.\")\n",
    "    \n",
    "    # Rename the file\n",
    "    shutil.move(old_path, new_path)\n",
    "    print(f\"File successfully renamed to: {new_path}\")\n",
    "\n",
    "except FileNotFoundError:\n",
    "    print(\"Error: The file 'final.csv' does not exist.\")\n",
    "except PermissionError:\n",
    "    print(\"Error: Permission denied. Check file permissions.\")\n",
    "except Exception as e:\n",
    "    print(f\"Error: {e}\")\n"
   ]
  },
  {
   "cell_type": "code",
   "execution_count": 6,
   "metadata": {},
   "outputs": [],
   "source": [
    "#see the value in days_since_last_visit column in the final.csv file, replace the value by recalculating the number of days between the current date and the last_visit_date column value\n",
    "\n",
    "\n",
    "\n"
   ]
  }
 ],
 "metadata": {
  "kernelspec": {
   "display_name": "Python 3",
   "language": "python",
   "name": "python3"
  },
  "language_info": {
   "codemirror_mode": {
    "name": "ipython",
    "version": 3
   },
   "file_extension": ".py",
   "mimetype": "text/x-python",
   "name": "python",
   "nbconvert_exporter": "python",
   "pygments_lexer": "ipython3",
   "version": "3.9.21"
  }
 },
 "nbformat": 4,
 "nbformat_minor": 2
}
