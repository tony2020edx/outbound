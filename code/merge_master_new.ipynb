{
 "cells": [
  {
   "cell_type": "code",
   "execution_count": null,
   "metadata": {
    "vscode": {
     "languageId": "plaintext"
    }
   },
   "outputs": [],
   "source": [
    "import pandas as pd\n",
    "\n",
    "# Load the two CSV files\n",
    "master_data_path = \"/Users/tony/Desktop/outbound/data/master_data.csv\"\n",
    "fresh_data_path = \"/Users/tony/Desktop/outbound/data/fresh_data.csv\"\n",
    "\n",
    "df1 = pd.read_csv(master_data_path)\n",
    "df2 = pd.read_csv(fresh_data_path)\n",
    "\n",
    "\n"
   ]
  },
  {
   "cell_type": "code",
   "execution_count": null,
   "metadata": {
    "vscode": {
     "languageId": "plaintext"
    }
   },
   "outputs": [],
   "source": [
    "# Count the number of rows in each file before merging\n",
    "count_file1 = df1.shape[0]\n",
    "count_file2 = df2.shape[0]\n",
    "\n",
    "# Concatenate both datasets\n",
    "merged_df = pd.concat([df1, df2])\n",
    "\n",
    "# Remove rows where 'Domain' is missing\n",
    "merged_df = merged_df.dropna(subset=['Domain'])\n",
    "\n",
    "# Drop duplicates, keeping the last occurrence based on 'Domain'\n",
    "merged_df = merged_df.drop_duplicates(subset=['Domain'], keep='last')\n",
    "\n",
    "# Count the number of rows after merging\n",
    "count_merged = merged_df.shape[0]\n"
   ]
  },
  {
   "cell_type": "code",
   "execution_count": null,
   "metadata": {
    "vscode": {
     "languageId": "plaintext"
    }
   },
   "outputs": [],
   "source": [
    "# Save the merged data to a new CSV file\n",
    "merged_file_path = \"/Users/tony/Desktop/leadscore/leadscore/outbound/data/merged_scored_data.csv\"\n",
    "merged_df.to_csv(merged_file_path, index=False)\n",
    "\n",
    "# Display row counts\n",
    "print(f\"Rows in scored_fresh_data.csv: {count_file1}\")\n",
    "print(f\"Rows in scored_master_data.csv: {count_file2}\")\n",
    "print(f\"Rows after merging: {count_merged}\")"
   ]
  },
  {
   "cell_type": "code",
   "execution_count": null,
   "metadata": {
    "vscode": {
     "languageId": "plaintext"
    }
   },
   "outputs": [],
   "source": []
  }
 ],
 "metadata": {
  "language_info": {
   "name": "python"
  }
 },
 "nbformat": 4,
 "nbformat_minor": 2
}
