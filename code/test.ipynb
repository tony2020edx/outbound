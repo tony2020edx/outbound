{
 "cells": [
  {
   "cell_type": "code",
   "execution_count": 6,
   "metadata": {},
   "outputs": [
    {
     "name": "stdout",
     "output_type": "stream",
     "text": [
      "Index(['last_visited_date', 'days_since_last_visit', 'total_score', 'Domain',\n",
      "       'Name', 'revenue_in_million', 'employee_count', 'contact_email',\n",
      "       'mobile_number', 'position', 'time_spent_on_site', 'linkedin_profile',\n",
      "       'visit_count', 'location', 'department', 'Seniority', 'Founded Year',\n",
      "       'contact_status', 'industry', 'company_name', 'company_linkedin',\n",
      "       'lead_id', 'lead_url', 'industry_score', 'location_score', 'role_score',\n",
      "       'number_of_visit_score', 'visit_duration_score', 'employee_count_score',\n",
      "       'contact_score', 'last_visit_score'],\n",
      "      dtype='object')\n"
     ]
    }
   ],
   "source": [
    "import pandas as pd\n",
    "import numpy as np\n",
    "import re\n",
    "from datetime import date\n",
    "\n",
    "file_path = \"/Users/tony/Desktop/outbound/data/master_data.csv\"\n",
    "df = pd.read_csv(file_path)\n",
    "\n",
    "#drop Industry column\n",
    "df.drop('Industry', axis=1, inplace=True)\n",
    "\n",
    "print(df.columns)\n",
    "\n"
   ]
  }
 ],
 "metadata": {
  "kernelspec": {
   "display_name": "Python 3",
   "language": "python",
   "name": "python3"
  },
  "language_info": {
   "codemirror_mode": {
    "name": "ipython",
    "version": 3
   },
   "file_extension": ".py",
   "mimetype": "text/x-python",
   "name": "python",
   "nbconvert_exporter": "python",
   "pygments_lexer": "ipython3",
   "version": "3.9.21"
  }
 },
 "nbformat": 4,
 "nbformat_minor": 2
}
