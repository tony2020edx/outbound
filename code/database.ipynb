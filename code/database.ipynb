{
 "cells": [
  {
   "cell_type": "code",
   "execution_count": 1,
   "metadata": {},
   "outputs": [
    {
     "name": "stdout",
     "output_type": "stream",
     "text": [
      "Successfully updated /Users/tony/Desktop/outbound/final_data/final.csv with recalculated 'days_since_last_visit' values.\n"
     ]
    }
   ],
   "source": [
    "import pandas as pd\n",
    "\n",
    "# Load the CSV file\n",
    "file_path = \"/Users/tony/Desktop/outbound/final_data/final.csv\"  # Update with the correct path if needed\n",
    "data = pd.read_csv(file_path)\n",
    "\n",
    "# Convert 'last_visited_date' column to datetime format (YYYY-MM-DD)\n",
    "data['last_visited_date'] = pd.to_datetime(data['last_visited_date'], format='%Y-%m-%d', errors='coerce')\n",
    "\n",
    "# Function to calculate days since last visit\n",
    "def calculate_days_since(visit_date):\n",
    "    today = pd.to_datetime('today').normalize()  # Get today's date without time\n",
    "    return (today - visit_date).days if pd.notnull(visit_date) else None\n",
    "\n",
    "# Apply function to update 'days_since_last_visit'\n",
    "data['days_since_last_visit'] = data['last_visited_date'].apply(calculate_days_since)\n",
    "data.fillna(0, inplace=True)\n",
    "\n",
    "\n",
    "# Save the updated DataFrame back to CSV\n",
    "data.to_csv(file_path, index=False)\n",
    "\n",
    "print(f\"Successfully updated {file_path} with recalculated 'days_since_last_visit' values.\")"
   ]
  },
  {
   "cell_type": "code",
   "execution_count": 2,
   "metadata": {},
   "outputs": [
    {
     "name": "stdout",
     "output_type": "stream",
     "text": [
      "Data successfully inserted into SQLite database!\n"
     ]
    }
   ],
   "source": [
    "import sqlite3\n",
    "import pandas as pd\n",
    "\n",
    "csv_path = \"/Users/tony/Desktop/outbound/final_data/final.csv\"\n",
    "db_path = \"/Users/tony/Desktop/outbound/final_data/lead_data.db\"\n",
    "\n",
    "def create_and_insert_lead_data(csv_path, db_path):\n",
    "    # Load CSV\n",
    "    data = pd.read_csv(csv_path)\n",
    "\n",
    "    # Normalize column names to lowercase and remove duplicates\n",
    "    data.columns = data.columns.str.lower()\n",
    "    data = data.loc[:, ~data.columns.duplicated()]  # Drop duplicate columns\n",
    "\n",
    "    # Convert last_visited_date to datetime if it exists\n",
    "    if 'last_visited_date' in data.columns:\n",
    "        data['last_visited_date'] = pd.to_datetime(data['last_visited_date'], errors='coerce')\n",
    "\n",
    "    # Connect to SQLite\n",
    "    conn = sqlite3.connect(db_path)\n",
    "    cursor = conn.cursor()\n",
    "\n",
    "    # Drop table if it exists\n",
    "    cursor.execute(\"DROP TABLE IF EXISTS lead_data\")\n",
    "\n",
    "    # Define SQL table schema dynamically\n",
    "    column_types = {\n",
    "        'INTEGER': ['days_since_last_visit', 'total_score', 'employee_count', 'time_spent_on_site', 'visit_count', \n",
    "                    'founded_year', 'industry_score', 'location_score', 'role_score', 'number_of_visit_score',\n",
    "                    'visit_duration_score', 'employee_count_score', 'contact_score', 'last_visit_score'],\n",
    "        'REAL': ['revenue_in_million'],\n",
    "        'TEXT': ['lead_id', 'domain', 'name', 'contact_email', 'mobile_number', 'position', 'linkedin_profile', \n",
    "                 'location', 'department', 'seniority', 'industry', 'contact_status', 'company_name', 'company_linkedin', \n",
    "                 'lead_url']\n",
    "    }\n",
    "\n",
    "    create_statement = \"CREATE TABLE lead_data (\"\n",
    "    for col in data.columns:\n",
    "        col_type = 'TEXT'  # Default type\n",
    "        for dtype, cols in column_types.items():\n",
    "            if col in cols:\n",
    "                col_type = dtype\n",
    "                break\n",
    "        create_statement += f\"{col} {col_type}, \"\n",
    "    \n",
    "    create_statement = create_statement.rstrip(', ') + \")\"\n",
    "    cursor.execute(create_statement)\n",
    "\n",
    "    # Insert data\n",
    "    data.to_sql(\"lead_data\", conn, if_exists=\"replace\", index=False)\n",
    "\n",
    "    # Commit and close\n",
    "    conn.commit()\n",
    "    conn.close()\n",
    "    print(\"Data successfully inserted into SQLite database!\")\n",
    "\n",
    "# Run function\n",
    "create_and_insert_lead_data(csv_path, db_path)\n"
   ]
  }
 ],
 "metadata": {
  "kernelspec": {
   "display_name": "Python 3",
   "language": "python",
   "name": "python3"
  },
  "language_info": {
   "codemirror_mode": {
    "name": "ipython",
    "version": 3
   },
   "file_extension": ".py",
   "mimetype": "text/x-python",
   "name": "python",
   "nbconvert_exporter": "python",
   "pygments_lexer": "ipython3",
   "version": "3.9.21"
  }
 },
 "nbformat": 4,
 "nbformat_minor": 2
}
