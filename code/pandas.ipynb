{
 "cells": [
  {
   "cell_type": "code",
   "execution_count": null,
   "metadata": {},
   "outputs": [],
   "source": [
    "# Import the pandas library for data manipulation\n",
    "import pandas as pd\n",
    "\n",
    "# Define the URL where the Monkeypox data is hosted\n",
    "url = 'https://www.monkeypox.global.health/'\n",
    "\n",
    "# Use pandas' `read_html` function to extract all tables from the webpage\n",
    "# This will return a list of DataFrames\n",
    "df_list = pd.read_html(url)\n",
    "\n",
    "# Assuming the first table contains the relevant Monkeypox data, select it\n",
    "monkeypox_data = df_list[0]\n",
    "\n",
    "# Save the extracted data to a CSV file named 'monkeypox.csv'\n",
    "monkeypox_data.to_csv('monkeypox.csv', index=False)"
   ]
  }
 ],
 "metadata": {
  "kernelspec": {
   "display_name": "Python 3",
   "language": "python",
   "name": "python3"
  },
  "language_info": {
   "codemirror_mode": {
    "name": "ipython",
    "version": 3
   },
   "file_extension": ".py",
   "mimetype": "text/x-python",
   "name": "python",
   "nbconvert_exporter": "python",
   "pygments_lexer": "ipython3",
   "version": "3.9.21"
  }
 },
 "nbformat": 4,
 "nbformat_minor": 2
}
